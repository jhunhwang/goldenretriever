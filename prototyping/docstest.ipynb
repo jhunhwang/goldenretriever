{
 "cells": [
  {
   "cell_type": "markdown",
   "id": "adult-practice",
   "metadata": {},
   "source": [
    "# Extracting Tables "
   ]
  },
  {
   "cell_type": "code",
   "execution_count": 1,
   "id": "accredited-gibraltar",
   "metadata": {},
   "outputs": [
    {
     "data": {
      "text/plain": [
       "<docx.document.Document at 0x7fdf1988e180>"
      ]
     },
     "execution_count": 1,
     "metadata": {},
     "output_type": "execute_result"
    }
   ],
   "source": [
    "from docx.api import Document\n",
    "import pandas as pd\n",
    "file_path = \"../data/hr_handbook.docx\"\n",
    "document = Document(file_path)\n",
    "document"
   ]
  },
  {
   "cell_type": "code",
   "execution_count": 2,
   "id": "interim-hamilton",
   "metadata": {},
   "outputs": [],
   "source": [
    "df = []\n",
    "for table in document.tables:\n",
    "    column_names = None\n",
    "    rows =[]\n",
    "    for index, row in enumerate(table.rows):\n",
    "        text = [cell.text for cell in row.cells]\n",
    "        if (index == 0):\n",
    "            column_names = text\n",
    "            column_names = [name.replace('\\n', ' ') for name in column_names]\n",
    "        else:\n",
    "            rows.append(text)\n",
    "    temp_df = pd.DataFrame(rows, columns = column_names).replace('\\n',' ', regex=True)\n",
    "    df.append(temp_df)"
   ]
  },
  {
   "cell_type": "code",
   "execution_count": 3,
   "id": "arabic-payday",
   "metadata": {},
   "outputs": [
    {
     "data": {
      "text/plain": [
       "6"
      ]
     },
     "execution_count": 3,
     "metadata": {},
     "output_type": "execute_result"
    }
   ],
   "source": [
    "len(df)"
   ]
  },
  {
   "cell_type": "code",
   "execution_count": 4,
   "id": "dangerous-samuel",
   "metadata": {},
   "outputs": [
    {
     "data": {
      "text/html": [
       "<div>\n",
       "<style scoped>\n",
       "    .dataframe tbody tr th:only-of-type {\n",
       "        vertical-align: middle;\n",
       "    }\n",
       "\n",
       "    .dataframe tbody tr th {\n",
       "        vertical-align: top;\n",
       "    }\n",
       "\n",
       "    .dataframe thead th {\n",
       "        text-align: right;\n",
       "    }\n",
       "</style>\n",
       "<table border=\"1\" class=\"dataframe\">\n",
       "  <thead>\n",
       "    <tr style=\"text-align: right;\">\n",
       "      <th></th>\n",
       "      <th>Positions</th>\n",
       "      <th>During  Probation</th>\n",
       "      <th>Upon  Confirmation</th>\n",
       "    </tr>\n",
       "  </thead>\n",
       "  <tbody>\n",
       "    <tr>\n",
       "      <th>0</th>\n",
       "      <td>Senior Associate Director &amp; Above Principle Re...</td>\n",
       "      <td>1 month</td>\n",
       "      <td>3 months</td>\n",
       "    </tr>\n",
       "    <tr>\n",
       "      <th>1</th>\n",
       "      <td>Executive to Associate Director;  Research Ass...</td>\n",
       "      <td>1 month</td>\n",
       "      <td>1 month</td>\n",
       "    </tr>\n",
       "  </tbody>\n",
       "</table>\n",
       "</div>"
      ],
      "text/plain": [
       "                                          Positions  During  Probation   \\\n",
       "0  Senior Associate Director & Above Principle Re...           1 month    \n",
       "1  Executive to Associate Director;  Research Ass...           1 month    \n",
       "\n",
       "  Upon  Confirmation   \n",
       "0           3 months   \n",
       "1            1 month   "
      ]
     },
     "execution_count": 4,
     "metadata": {},
     "output_type": "execute_result"
    }
   ],
   "source": [
    "df[0]"
   ]
  },
  {
   "cell_type": "code",
   "execution_count": 5,
   "id": "improving-republican",
   "metadata": {},
   "outputs": [
    {
     "data": {
      "text/html": [
       "<div>\n",
       "<style scoped>\n",
       "    .dataframe tbody tr th:only-of-type {\n",
       "        vertical-align: middle;\n",
       "    }\n",
       "\n",
       "    .dataframe tbody tr th {\n",
       "        vertical-align: top;\n",
       "    }\n",
       "\n",
       "    .dataframe thead th {\n",
       "        text-align: right;\n",
       "    }\n",
       "</style>\n",
       "<table border=\"1\" class=\"dataframe\">\n",
       "  <thead>\n",
       "    <tr style=\"text-align: right;\">\n",
       "      <th></th>\n",
       "      <th>Length of Service*</th>\n",
       "      <th>Annual Leave Entitlement per calendar year</th>\n",
       "    </tr>\n",
       "  </thead>\n",
       "  <tbody>\n",
       "    <tr>\n",
       "      <th>0</th>\n",
       "      <td>Less than 5 years of service</td>\n",
       "      <td>21 days</td>\n",
       "    </tr>\n",
       "    <tr>\n",
       "      <th>1</th>\n",
       "      <td>5 to 10 years of service</td>\n",
       "      <td>24 days</td>\n",
       "    </tr>\n",
       "    <tr>\n",
       "      <th>2</th>\n",
       "      <td>More than 10 years of service</td>\n",
       "      <td>28 days</td>\n",
       "    </tr>\n",
       "  </tbody>\n",
       "</table>\n",
       "</div>"
      ],
      "text/plain": [
       "              Length of Service*  Annual Leave Entitlement per calendar year \n",
       "0   Less than 5 years of service                                     21 days \n",
       "1       5 to 10 years of service                                     24 days \n",
       "2  More than 10 years of service                                     28 days "
      ]
     },
     "execution_count": 5,
     "metadata": {},
     "output_type": "execute_result"
    }
   ],
   "source": [
    "df[1]"
   ]
  },
  {
   "cell_type": "code",
   "execution_count": 6,
   "id": "disabled-narrow",
   "metadata": {},
   "outputs": [
    {
     "data": {
      "text/html": [
       "<div>\n",
       "<style scoped>\n",
       "    .dataframe tbody tr th:only-of-type {\n",
       "        vertical-align: middle;\n",
       "    }\n",
       "\n",
       "    .dataframe tbody tr th {\n",
       "        vertical-align: top;\n",
       "    }\n",
       "\n",
       "    .dataframe thead th {\n",
       "        text-align: right;\n",
       "    }\n",
       "</style>\n",
       "<table border=\"1\" class=\"dataframe\">\n",
       "  <thead>\n",
       "    <tr style=\"text-align: right;\">\n",
       "      <th></th>\n",
       "      <th>Half Day Leave</th>\n",
       "      <th>Working Hours</th>\n",
       "      <th>Working Hours</th>\n",
       "    </tr>\n",
       "  </thead>\n",
       "  <tbody>\n",
       "    <tr>\n",
       "      <th>0</th>\n",
       "      <td>AM Leave</td>\n",
       "      <td>Mon – Thurs :  Fri :</td>\n",
       "      <td>2.00pm – 6.00pm  2.00pm – 5.30pm</td>\n",
       "    </tr>\n",
       "    <tr>\n",
       "      <th>1</th>\n",
       "      <td>PM Leave</td>\n",
       "      <td>Mon – Thurs :  Fri :</td>\n",
       "      <td>8.30am – 12.30pm  8.30am – 12.00pm</td>\n",
       "    </tr>\n",
       "  </tbody>\n",
       "</table>\n",
       "</div>"
      ],
      "text/plain": [
       "  Half Day Leave          Working Hours                        Working Hours \n",
       "0       AM Leave   Mon – Thurs :  Fri :     2.00pm – 6.00pm  2.00pm – 5.30pm \n",
       "1       PM Leave   Mon – Thurs :  Fri :   8.30am – 12.30pm  8.30am – 12.00pm "
      ]
     },
     "execution_count": 6,
     "metadata": {},
     "output_type": "execute_result"
    }
   ],
   "source": [
    "df[2]"
   ]
  },
  {
   "cell_type": "code",
   "execution_count": 7,
   "id": "consolidated-laser",
   "metadata": {},
   "outputs": [
    {
     "data": {
      "text/html": [
       "<div>\n",
       "<style scoped>\n",
       "    .dataframe tbody tr th:only-of-type {\n",
       "        vertical-align: middle;\n",
       "    }\n",
       "\n",
       "    .dataframe tbody tr th {\n",
       "        vertical-align: top;\n",
       "    }\n",
       "\n",
       "    .dataframe thead th {\n",
       "        text-align: right;\n",
       "    }\n",
       "</style>\n",
       "<table border=\"1\" class=\"dataframe\">\n",
       "  <thead>\n",
       "    <tr style=\"text-align: right;\">\n",
       "      <th></th>\n",
       "      <th>No. of children below  12 years old</th>\n",
       "      <th>Mother’s Annual Childcare Leave Eligibility</th>\n",
       "      <th>Father’s Annual Childcare Leave Eligibility</th>\n",
       "    </tr>\n",
       "  </thead>\n",
       "  <tbody>\n",
       "    <tr>\n",
       "      <th>0</th>\n",
       "      <td>1</td>\n",
       "      <td>5 days</td>\n",
       "      <td>5 days</td>\n",
       "    </tr>\n",
       "    <tr>\n",
       "      <th>1</th>\n",
       "      <td>2</td>\n",
       "      <td>10 days</td>\n",
       "      <td>10 days</td>\n",
       "    </tr>\n",
       "    <tr>\n",
       "      <th>2</th>\n",
       "      <td>3 or more</td>\n",
       "      <td>15 days</td>\n",
       "      <td>15 days</td>\n",
       "    </tr>\n",
       "  </tbody>\n",
       "</table>\n",
       "</div>"
      ],
      "text/plain": [
       "  No. of children below  12 years old   \\\n",
       "0                                   1    \n",
       "1                                   2    \n",
       "2                           3 or more    \n",
       "\n",
       "  Mother’s Annual Childcare Leave Eligibility   \\\n",
       "0                                      5 days    \n",
       "1                                     10 days    \n",
       "2                                     15 days    \n",
       "\n",
       "  Father’s Annual Childcare Leave Eligibility   \n",
       "0                                      5 days   \n",
       "1                                     10 days   \n",
       "2                                     15 days   "
      ]
     },
     "execution_count": 7,
     "metadata": {},
     "output_type": "execute_result"
    }
   ],
   "source": [
    "df[3]"
   ]
  },
  {
   "cell_type": "code",
   "execution_count": 8,
   "id": "sapphire-participation",
   "metadata": {},
   "outputs": [
    {
     "data": {
      "text/html": [
       "<div>\n",
       "<style scoped>\n",
       "    .dataframe tbody tr th:only-of-type {\n",
       "        vertical-align: middle;\n",
       "    }\n",
       "\n",
       "    .dataframe tbody tr th {\n",
       "        vertical-align: top;\n",
       "    }\n",
       "\n",
       "    .dataframe thead th {\n",
       "        text-align: right;\n",
       "    }\n",
       "</style>\n",
       "<table border=\"1\" class=\"dataframe\">\n",
       "  <thead>\n",
       "    <tr style=\"text-align: right;\">\n",
       "      <th></th>\n",
       "      <th>Age Group</th>\n",
       "      <th>Total no. of children  below 12 years old</th>\n",
       "      <th>Unconditional  Childcare Leave</th>\n",
       "      <th>Childcare Leave  With MC</th>\n",
       "      <th>Total Childcare  Leave  Eligibility for the year</th>\n",
       "    </tr>\n",
       "  </thead>\n",
       "  <tbody>\n",
       "    <tr>\n",
       "      <th>0</th>\n",
       "      <td>Child below 7 years old who is a  Singapore Ci...</td>\n",
       "      <td>1</td>\n",
       "      <td>6 days</td>\n",
       "      <td>-</td>\n",
       "      <td>6 days</td>\n",
       "    </tr>\n",
       "    <tr>\n",
       "      <th>1</th>\n",
       "      <td>Child below 7 years old who is a  Singapore Ci...</td>\n",
       "      <td>2</td>\n",
       "      <td>6 days</td>\n",
       "      <td>4 days</td>\n",
       "      <td>10 days</td>\n",
       "    </tr>\n",
       "    <tr>\n",
       "      <th>2</th>\n",
       "      <td>Child below 7 years old who is a  Singapore Ci...</td>\n",
       "      <td>3 or more</td>\n",
       "      <td>6 days</td>\n",
       "      <td>9 days</td>\n",
       "      <td>15 days</td>\n",
       "    </tr>\n",
       "    <tr>\n",
       "      <th>3</th>\n",
       "      <td>Child between 7 to 12 years old who is a  Sing...</td>\n",
       "      <td>1</td>\n",
       "      <td>2 days</td>\n",
       "      <td>3 days</td>\n",
       "      <td>5 days</td>\n",
       "    </tr>\n",
       "    <tr>\n",
       "      <th>4</th>\n",
       "      <td>Child between 7 to 12 years old who is a  Sing...</td>\n",
       "      <td>2</td>\n",
       "      <td>2 days</td>\n",
       "      <td>8 days</td>\n",
       "      <td>10 days</td>\n",
       "    </tr>\n",
       "    <tr>\n",
       "      <th>5</th>\n",
       "      <td>Child between 7 to 12 years old who is a  Sing...</td>\n",
       "      <td>3 or more</td>\n",
       "      <td>2 days</td>\n",
       "      <td>13 days</td>\n",
       "      <td>15 days</td>\n",
       "    </tr>\n",
       "  </tbody>\n",
       "</table>\n",
       "</div>"
      ],
      "text/plain": [
       "                                          Age Group   \\\n",
       "0  Child below 7 years old who is a  Singapore Ci...   \n",
       "1  Child below 7 years old who is a  Singapore Ci...   \n",
       "2  Child below 7 years old who is a  Singapore Ci...   \n",
       "3  Child between 7 to 12 years old who is a  Sing...   \n",
       "4  Child between 7 to 12 years old who is a  Sing...   \n",
       "5  Child between 7 to 12 years old who is a  Sing...   \n",
       "\n",
       "  Total no. of children  below 12 years old  Unconditional  Childcare Leave   \\\n",
       "0                                         1                          6 days    \n",
       "1                                         2                          6 days    \n",
       "2                                 3 or more                          6 days    \n",
       "3                                         1                          2 days    \n",
       "4                                         2                          2 days    \n",
       "5                                 3 or more                          2 days    \n",
       "\n",
       "  Childcare Leave  With MC  Total Childcare  Leave  Eligibility for the year   \n",
       "0                        -                                            6 days   \n",
       "1                   4 days                                           10 days   \n",
       "2                   9 days                                           15 days   \n",
       "3                   3 days                                            5 days   \n",
       "4                   8 days                                           10 days   \n",
       "5                  13 days                                           15 days   "
      ]
     },
     "execution_count": 8,
     "metadata": {},
     "output_type": "execute_result"
    }
   ],
   "source": [
    "df[4]"
   ]
  },
  {
   "cell_type": "code",
   "execution_count": 9,
   "id": "insured-cleanup",
   "metadata": {},
   "outputs": [
    {
     "data": {
      "text/html": [
       "<div>\n",
       "<style scoped>\n",
       "    .dataframe tbody tr th:only-of-type {\n",
       "        vertical-align: middle;\n",
       "    }\n",
       "\n",
       "    .dataframe tbody tr th {\n",
       "        vertical-align: top;\n",
       "    }\n",
       "\n",
       "    .dataframe thead th {\n",
       "        text-align: right;\n",
       "    }\n",
       "</style>\n",
       "<table border=\"1\" class=\"dataframe\">\n",
       "  <thead>\n",
       "    <tr style=\"text-align: right;\">\n",
       "      <th></th>\n",
       "      <th>Length of Service</th>\n",
       "      <th>Awards</th>\n",
       "    </tr>\n",
       "  </thead>\n",
       "  <tbody>\n",
       "    <tr>\n",
       "      <th>0</th>\n",
       "      <td>5 continuous years</td>\n",
       "      <td>S$300</td>\n",
       "    </tr>\n",
       "    <tr>\n",
       "      <th>1</th>\n",
       "      <td>10 continuous years</td>\n",
       "      <td>S$400</td>\n",
       "    </tr>\n",
       "    <tr>\n",
       "      <th>2</th>\n",
       "      <td>15 continuous years</td>\n",
       "      <td>S$500</td>\n",
       "    </tr>\n",
       "    <tr>\n",
       "      <th>3</th>\n",
       "      <td>20 continuous years</td>\n",
       "      <td>S$800</td>\n",
       "    </tr>\n",
       "    <tr>\n",
       "      <th>4</th>\n",
       "      <td>25 continuous years</td>\n",
       "      <td>S$1,200</td>\n",
       "    </tr>\n",
       "    <tr>\n",
       "      <th>5</th>\n",
       "      <td>30 continuous years</td>\n",
       "      <td>S$1,500</td>\n",
       "    </tr>\n",
       "    <tr>\n",
       "      <th>6</th>\n",
       "      <td>35 continuous years</td>\n",
       "      <td>S$1,500</td>\n",
       "    </tr>\n",
       "    <tr>\n",
       "      <th>7</th>\n",
       "      <td>40 continuous years and every subsequent 5 yea...</td>\n",
       "      <td>S$2,000</td>\n",
       "    </tr>\n",
       "  </tbody>\n",
       "</table>\n",
       "</div>"
      ],
      "text/plain": [
       "                                  Length of Service     Awards \n",
       "0                                5 continuous years     S$300  \n",
       "1                               10 continuous years     S$400  \n",
       "2                               15 continuous years     S$500  \n",
       "3                               20 continuous years     S$800  \n",
       "4                               25 continuous years   S$1,200  \n",
       "5                               30 continuous years   S$1,500  \n",
       "6                               35 continuous years   S$1,500  \n",
       "7  40 continuous years and every subsequent 5 yea...  S$2,000  "
      ]
     },
     "execution_count": 9,
     "metadata": {},
     "output_type": "execute_result"
    }
   ],
   "source": [
    "df[5]"
   ]
  },
  {
   "cell_type": "markdown",
   "id": "scheduled-console",
   "metadata": {},
   "source": [
    "# Extracting Images "
   ]
  },
  {
   "cell_type": "code",
   "execution_count": 10,
   "id": "plastic-worship",
   "metadata": {},
   "outputs": [],
   "source": [
    "import docx2txt\n",
    "text = docx2txt.process(\"../data/hr_handbook.docx\", '../data/img/') "
   ]
  }
 ],
 "metadata": {
  "kernelspec": {
   "display_name": "Python 3",
   "language": "python",
   "name": "python3"
  },
  "language_info": {
   "codemirror_mode": {
    "name": "ipython",
    "version": 3
   },
   "file_extension": ".py",
   "mimetype": "text/x-python",
   "name": "python",
   "nbconvert_exporter": "python",
   "pygments_lexer": "ipython3",
   "version": "3.8.3"
  }
 },
 "nbformat": 4,
 "nbformat_minor": 5
}
